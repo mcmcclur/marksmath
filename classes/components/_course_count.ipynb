{
 "cells": [
  {
   "cell_type": "markdown",
   "metadata": {},
   "source": [
    "# Course counts\n",
    "\n",
    "Drop this in a directory that contains a bunch of UNCA class schedule CSVs downloaded from https://www.unca.edu/schedules/; this notebook reads through those and builds a file with some information on my courses."
   ]
  },
  {
   "cell_type": "code",
   "execution_count": 1,
   "metadata": {},
   "outputs": [],
   "source": [
    "import pandas as pd\n",
    "import os\n",
    "import re"
   ]
  },
  {
   "cell_type": "code",
   "execution_count": 15,
   "metadata": {},
   "outputs": [],
   "source": [
    "pattern = re.compile(r\"^Courses (FALL|SPRING|SUMMER) (\\d{4})\\.csv$\")\n",
    "data = pd.DataFrame()\n",
    "for course in os.listdir():\n",
    "    match = pattern.match(course)\n",
    "    if match:\n",
    "        sem, year = match.groups()\n",
    "        result = {'SEM': sem, 'YEAR': year}\n",
    "        df = pd.read_csv(course)\n",
    "        df = df[['Code', 'Department', 'Title', 'Instructors', 'Hours', 'EnrollmentCurrent']]\n",
    "        df = df[df['EnrollmentCurrent'] > 0]\n",
    "        df = df[df['Hours'] > 0]\n",
    "        df['Semester'] = sem\n",
    "        df['Year'] = year\n",
    "        data = pd.concat([data, df], ignore_index=True)\n",
    "data.sort_values(by=['Year', 'Semester'], inplace=True)\n",
    "data = data[data.apply(lambda r: r.Instructors == \"McClure, Mark\", axis=1)]\n",
    "data['Hours'] = data['Hours'].astype(int)\n",
    "data['Enrollment'] = data['EnrollmentCurrent'].astype(int)\n",
    "data = data[['Code', 'Department', 'Title', 'Hours', 'Enrollment', 'Semester', 'Year']]\n",
    "data['Title'] = data.Title.apply(lambda s: s.split(':')[-1].strip())\n",
    "\n",
    "data.to_csv('courses.csv', index=False, encoding='utf-8-sig')\n"
   ]
  },
  {
   "cell_type": "code",
   "execution_count": null,
   "metadata": {},
   "outputs": [],
   "source": []
  },
  {
   "cell_type": "code",
   "execution_count": null,
   "metadata": {},
   "outputs": [],
   "source": []
  },
  {
   "cell_type": "code",
   "execution_count": null,
   "metadata": {},
   "outputs": [],
   "source": []
  },
  {
   "cell_type": "code",
   "execution_count": null,
   "metadata": {},
   "outputs": [],
   "source": []
  }
 ],
 "metadata": {
  "kernelspec": {
   "display_name": "base",
   "language": "python",
   "name": "python3"
  },
  "language_info": {
   "codemirror_mode": {
    "name": "ipython",
    "version": 3
   },
   "file_extension": ".py",
   "mimetype": "text/x-python",
   "name": "python",
   "nbconvert_exporter": "python",
   "pygments_lexer": "ipython3",
   "version": "3.12.2"
  }
 },
 "nbformat": 4,
 "nbformat_minor": 4
}
